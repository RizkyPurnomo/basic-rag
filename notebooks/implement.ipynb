{
 "cells": [
  {
   "cell_type": "code",
   "execution_count": 1,
   "id": "7e0858ba",
   "metadata": {},
   "outputs": [],
   "source": [
    "import sys\n",
    "import os\n",
    "sys.path.append(os.path.abspath('../src'))"
   ]
  },
  {
   "cell_type": "code",
   "execution_count": 2,
   "id": "3f015588",
   "metadata": {},
   "outputs": [
    {
     "name": "stdout",
     "output_type": "stream",
     "text": [
      "Mengapa pemeriksaan antropometri penting dilakukan pada pasien dengan BBLSR dan prematuritas?\n"
     ]
    }
   ],
   "source": [
    "from questions import questions\n",
    "question = questions[1]\n",
    "print(question)"
   ]
  },
  {
   "cell_type": "markdown",
   "id": "257c59d6",
   "metadata": {},
   "source": [
    "## Retrieve"
   ]
  },
  {
   "cell_type": "code",
   "execution_count": 3,
   "id": "b3115db2",
   "metadata": {},
   "outputs": [],
   "source": [
    "from retriever import retrieve_chunks, remove_newlines"
   ]
  },
  {
   "cell_type": "code",
   "execution_count": 4,
   "id": "de51d5ea",
   "metadata": {},
   "outputs": [],
   "source": [
    "context = retrieve_chunks(question, k=10)\n",
    "context = remove_newlines(context)"
   ]
  },
  {
   "cell_type": "markdown",
   "id": "ce61051d",
   "metadata": {},
   "source": [
    "## Generate"
   ]
  },
  {
   "cell_type": "code",
   "execution_count": 5,
   "id": "c8b6cf62",
   "metadata": {},
   "outputs": [],
   "source": [
    "from local_models import rag_generate_ollama, grade_answer_ollama"
   ]
  },
  {
   "cell_type": "code",
   "execution_count": 6,
   "id": "11c08640",
   "metadata": {},
   "outputs": [
    {
     "name": "stdout",
     "output_type": "stream",
     "text": [
      "Answer:\n",
      " Mengapa pemeriksaan antropometri penting dilakukan pada pasien dengan BBLSR dan prematuritas?\n",
      "\n",
      "Pemeriksaan antropometri sangat penting dilakukan pada pasien dengan BBLSR (Berat Badan Lahir Rendah) dan prematuritas karena ukuran lahir bayi berkaitan erat dengan kesehatannya di masa mendatang, terutama penyakit degenerative. Selain itu, pengukuran antropometri dapat membantu mengidentifikasi pertumbuhan dan perkembangan bayi.\n",
      "\n",
      "Pengukuran berat badan pada bayi sangat penting untuk memantau perkembangan dan pertumbuhan bayi, terutama jika bayi memiliki BBLSR. Dengan melakukan pengukuran antropometri secara berkala, dokter dapat mengetahui apakah bayi tersebut memiliki gangguan pertumbuhan atau tidak.\n",
      "\n",
      "Dalam kasus pasien prematuritas, pengukuran antropometri juga sangat penting untuk mengidentifikasi kesehatan dan perkembangan bayi. Pasien prematuritas cenderung lebih rentan terhadap masalah kesehatan dan pertumbuhan yang tidak normal.\n",
      "\n",
      "Jadi, pemeriksaan antropometri sangat penting dilakukan pada pasien dengan BBLSR dan prematuritas untuk memantau perkembangan dan pertumbuhan bayi serta mengidentifikasi kemungkinan gangguan pertumbuhan atau penyakit degenerative.\n"
     ]
    }
   ],
   "source": [
    "answer = rag_generate_ollama(question, context)\n",
    "print('Answer:\\n',answer)"
   ]
  },
  {
   "cell_type": "code",
   "execution_count": 7,
   "id": "d8183ab6",
   "metadata": {},
   "outputs": [
    {
     "name": "stdout",
     "output_type": "stream",
     "text": [
      "Grade:\n",
      " {'correctness_score': 4, 'correctness_reasoning': 'The answer correctly connects low birth weight (BBLSR) with the importance of antropometria in future years due to the relationship between early-life factors and health.', 'groundedness_score': 4, 'groundedness_reasoning': 'The answer is grounded in the context provided, specifically items 3 and 5 which discuss antropometria sebelum intervensi and k skoring akhir.', 'clarity_score': 7, 'clarity_reasoning': 'The answer is clearly structured with relevant content that provides a coherent flow from antropometria sebelum intervensi to conclusions about health outcomes.'}\n"
     ]
    }
   ],
   "source": [
    "grade = grade_answer_ollama(question, context, answer)\n",
    "print('Grade:\\n',grade)"
   ]
  },
  {
   "cell_type": "code",
   "execution_count": 8,
   "id": "e8f45228",
   "metadata": {},
   "outputs": [
    {
     "name": "stdout",
     "output_type": "stream",
     "text": [
      "Correctness: 4\n",
      "Groundedness: 4\n",
      "Clarity: 7\n",
      "\n",
      "Correctness Reasoning: The answer correctly connects low birth weight (BBLSR) with the importance of antropometria in future years due to the relationship between early-life factors and health.\n",
      "Groundedness Reasoning: The answer is grounded in the context provided, specifically items 3 and 5 which discuss antropometria sebelum intervensi and k skoring akhir.\n",
      "Clarity Reasoning: The answer is clearly structured with relevant content that provides a coherent flow from antropometria sebelum intervensi to conclusions about health outcomes.\n"
     ]
    }
   ],
   "source": [
    "print('Correctness:', grade['correctness_score'])\n",
    "print('Groundedness:', grade['groundedness_score'])\n",
    "print('Clarity:', grade['clarity_score'])\n",
    "\n",
    "print('\\nCorrectness Reasoning:', grade['correctness_reasoning'])\n",
    "print('Groundedness Reasoning:', grade['groundedness_reasoning'])\n",
    "print('Clarity Reasoning:', grade['clarity_reasoning'])"
   ]
  }
 ],
 "metadata": {
  "kernelspec": {
   "display_name": "risetragvenv",
   "language": "python",
   "name": "python3"
  },
  "language_info": {
   "codemirror_mode": {
    "name": "ipython",
    "version": 3
   },
   "file_extension": ".py",
   "mimetype": "text/x-python",
   "name": "python",
   "nbconvert_exporter": "python",
   "pygments_lexer": "ipython3",
   "version": "3.11.2"
  }
 },
 "nbformat": 4,
 "nbformat_minor": 5
}
